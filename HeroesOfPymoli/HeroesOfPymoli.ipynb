{
 "cells": [
  {
   "cell_type": "code",
   "execution_count": 1,
   "metadata": {},
   "outputs": [],
   "source": [
    "# Import Dependencies\n",
    "import pandas as pd\n",
    "import numpy as np\n",
    "\n",
    "# Create file path\n",
    "file_path = \"Resources/purchase_data.csv\"\n",
    "\n",
    "# Read the file\n",
    "purchase_data = pd.read_csv(file_path)"
   ]
  },
  {
   "cell_type": "markdown",
   "metadata": {},
   "source": [
    "# Player Count"
   ]
  },
  {
   "cell_type": "code",
   "execution_count": 2,
   "metadata": {},
   "outputs": [
    {
     "data": {
      "text/html": [
       "<div>\n",
       "<style scoped>\n",
       "    .dataframe tbody tr th:only-of-type {\n",
       "        vertical-align: middle;\n",
       "    }\n",
       "\n",
       "    .dataframe tbody tr th {\n",
       "        vertical-align: top;\n",
       "    }\n",
       "\n",
       "    .dataframe thead th {\n",
       "        text-align: right;\n",
       "    }\n",
       "</style>\n",
       "<table border=\"1\" class=\"dataframe\">\n",
       "  <thead>\n",
       "    <tr style=\"text-align: right;\">\n",
       "      <th></th>\n",
       "      <th>Total Players</th>\n",
       "    </tr>\n",
       "  </thead>\n",
       "  <tbody>\n",
       "    <tr>\n",
       "      <th>0</th>\n",
       "      <td>576</td>\n",
       "    </tr>\n",
       "  </tbody>\n",
       "</table>\n",
       "</div>"
      ],
      "text/plain": [
       "   Total Players\n",
       "0            576"
      ]
     },
     "execution_count": 2,
     "metadata": {},
     "output_type": "execute_result"
    }
   ],
   "source": [
    "# Calculate the total number of unique players\n",
    "total_players = len(purchase_data[\"SN\"].unique())\n",
    "\n",
    "# Display the total number of players\n",
    "pd.DataFrame({\"Total Players\": total_players}, index = [0])"
   ]
  },
  {
   "cell_type": "markdown",
   "metadata": {},
   "source": [
    "# Purchasing Analysis (Total)"
   ]
  },
  {
   "cell_type": "code",
   "execution_count": 3,
   "metadata": {},
   "outputs": [
    {
     "data": {
      "text/html": [
       "<div>\n",
       "<style scoped>\n",
       "    .dataframe tbody tr th:only-of-type {\n",
       "        vertical-align: middle;\n",
       "    }\n",
       "\n",
       "    .dataframe tbody tr th {\n",
       "        vertical-align: top;\n",
       "    }\n",
       "\n",
       "    .dataframe thead th {\n",
       "        text-align: right;\n",
       "    }\n",
       "</style>\n",
       "<table border=\"1\" class=\"dataframe\">\n",
       "  <thead>\n",
       "    <tr style=\"text-align: right;\">\n",
       "      <th></th>\n",
       "      <th>Number of Unique Items</th>\n",
       "      <th>Average Price</th>\n",
       "      <th>Number of Purchases</th>\n",
       "      <th>Total Revenue</th>\n",
       "    </tr>\n",
       "  </thead>\n",
       "  <tbody>\n",
       "    <tr>\n",
       "      <th>0</th>\n",
       "      <td>179</td>\n",
       "      <td>$3.05</td>\n",
       "      <td>780</td>\n",
       "      <td>$2,379.77</td>\n",
       "    </tr>\n",
       "  </tbody>\n",
       "</table>\n",
       "</div>"
      ],
      "text/plain": [
       "   Number of Unique Items Average Price  Number of Purchases Total Revenue\n",
       "0                     179         $3.05                  780     $2,379.77"
      ]
     },
     "execution_count": 3,
     "metadata": {},
     "output_type": "execute_result"
    }
   ],
   "source": [
    "# Calculate the total number of unique items\n",
    "total_unique_items = len(purchase_data[\"Item Name\"].unique())\n",
    "\n",
    "# Calculate the average price\n",
    "average_price = purchase_data[\"Price\"].mean()\n",
    "\n",
    "# Calculate the total number of transactions\n",
    "total_purchases = purchase_data[\"Purchase ID\"].count()\n",
    "\n",
    "# Calculate the total revenue\n",
    "total_revenue = purchase_data[\"Price\"].sum()\n",
    "\n",
    "# Place all of the data into a summary DataFrame\n",
    "summary_df = pd.DataFrame({\n",
    "                            \"Number of Unique Items\": total_unique_items,\n",
    "                            \"Average Price\": average_price,\n",
    "                            \"Number of Purchases\": total_purchases,\n",
    "                            \"Total Revenue\": total_revenue\n",
    "    \n",
    "            }, index = [0])\n",
    "\n",
    "# Data Formatting\n",
    "summary_df[\"Average Price\"] = summary_df[\"Average Price\"].map(\"${:,.2f}\".format)\n",
    "summary_df[\"Total Revenue\"] = summary_df[\"Total Revenue\"].map(\"${:,.2f}\".format)\n",
    "\n",
    "# Display the dataframe\n",
    "summary_df"
   ]
  },
  {
   "cell_type": "markdown",
   "metadata": {},
   "source": [
    "# Gender Demographics"
   ]
  },
  {
   "cell_type": "code",
   "execution_count": 4,
   "metadata": {},
   "outputs": [
    {
     "data": {
      "text/html": [
       "<div>\n",
       "<style scoped>\n",
       "    .dataframe tbody tr th:only-of-type {\n",
       "        vertical-align: middle;\n",
       "    }\n",
       "\n",
       "    .dataframe tbody tr th {\n",
       "        vertical-align: top;\n",
       "    }\n",
       "\n",
       "    .dataframe thead th {\n",
       "        text-align: right;\n",
       "    }\n",
       "</style>\n",
       "<table border=\"1\" class=\"dataframe\">\n",
       "  <thead>\n",
       "    <tr style=\"text-align: right;\">\n",
       "      <th></th>\n",
       "      <th>Total Count</th>\n",
       "      <th>Percentage of Players</th>\n",
       "    </tr>\n",
       "    <tr>\n",
       "      <th>Gender</th>\n",
       "      <th></th>\n",
       "      <th></th>\n",
       "    </tr>\n",
       "  </thead>\n",
       "  <tbody>\n",
       "    <tr>\n",
       "      <th>Male</th>\n",
       "      <td>484</td>\n",
       "      <td>84.03%</td>\n",
       "    </tr>\n",
       "    <tr>\n",
       "      <th>Female</th>\n",
       "      <td>81</td>\n",
       "      <td>14.06%</td>\n",
       "    </tr>\n",
       "    <tr>\n",
       "      <th>Other / Non-Disclosed</th>\n",
       "      <td>11</td>\n",
       "      <td>1.91%</td>\n",
       "    </tr>\n",
       "  </tbody>\n",
       "</table>\n",
       "</div>"
      ],
      "text/plain": [
       "                       Total Count Percentage of Players\n",
       "Gender                                                  \n",
       "Male                           484                84.03%\n",
       "Female                          81                14.06%\n",
       "Other / Non-Disclosed           11                 1.91%"
      ]
     },
     "execution_count": 4,
     "metadata": {},
     "output_type": "execute_result"
    }
   ],
   "source": [
    "# Group dataframe by gender\n",
    "genders_group = purchase_data.groupby(\"Gender\")\n",
    "\n",
    "# Calculate the total for each gender\n",
    "gender_counts = genders_group.nunique()[\"SN\"]\n",
    "\n",
    "# Calculate the percentage for each gender\n",
    "gender_percentage = gender_counts / total_players * 100\n",
    "\n",
    "# Place data into dataframe\n",
    "gender_demographics = pd.DataFrame({\n",
    "                                    \"Total Count\": gender_counts,\n",
    "                                    \"Percentage of Players\": gender_percentage\n",
    "})\n",
    "\n",
    "# Data Formatting\n",
    "gender_demographics[\"Percentage of Players\"] = gender_demographics[\"Percentage of Players\"].map(\"{:,.2f}%\".format)\n",
    "\n",
    "# Display gender_demographics Data frame\n",
    "gender_demographics.sort_values([\"Total Count\"], ascending = False)"
   ]
  },
  {
   "cell_type": "markdown",
   "metadata": {},
   "source": [
    "# Purchasing Analysis (Gender)"
   ]
  },
  {
   "cell_type": "code",
   "execution_count": 5,
   "metadata": {},
   "outputs": [
    {
     "data": {
      "text/html": [
       "<style  type=\"text/css\" >\n",
       "</style><table id=\"T_40af69ae_ba69_11eb_9e48_1e00f2146720\" ><thead>    <tr>        <th class=\"blank level0\" ></th>        <th class=\"col_heading level0 col0\" >Purchase Count</th>        <th class=\"col_heading level0 col1\" >Average Purchase Price</th>        <th class=\"col_heading level0 col2\" >Total Purchase Value</th>        <th class=\"col_heading level0 col3\" >Average Total Purchase</th>    </tr>    <tr>        <th class=\"index_name level0\" >Gender</th>        <th class=\"blank\" ></th>        <th class=\"blank\" ></th>        <th class=\"blank\" ></th>        <th class=\"blank\" ></th>    </tr></thead><tbody>\n",
       "                <tr>\n",
       "                        <th id=\"T_40af69ae_ba69_11eb_9e48_1e00f2146720level0_row0\" class=\"row_heading level0 row0\" >Female</th>\n",
       "                        <td id=\"T_40af69ae_ba69_11eb_9e48_1e00f2146720row0_col0\" class=\"data row0 col0\" >113</td>\n",
       "                        <td id=\"T_40af69ae_ba69_11eb_9e48_1e00f2146720row0_col1\" class=\"data row0 col1\" >$3.20</td>\n",
       "                        <td id=\"T_40af69ae_ba69_11eb_9e48_1e00f2146720row0_col2\" class=\"data row0 col2\" >$361.94</td>\n",
       "                        <td id=\"T_40af69ae_ba69_11eb_9e48_1e00f2146720row0_col3\" class=\"data row0 col3\" >$4.47</td>\n",
       "            </tr>\n",
       "            <tr>\n",
       "                        <th id=\"T_40af69ae_ba69_11eb_9e48_1e00f2146720level0_row1\" class=\"row_heading level0 row1\" >Male</th>\n",
       "                        <td id=\"T_40af69ae_ba69_11eb_9e48_1e00f2146720row1_col0\" class=\"data row1 col0\" >652</td>\n",
       "                        <td id=\"T_40af69ae_ba69_11eb_9e48_1e00f2146720row1_col1\" class=\"data row1 col1\" >$3.02</td>\n",
       "                        <td id=\"T_40af69ae_ba69_11eb_9e48_1e00f2146720row1_col2\" class=\"data row1 col2\" >$1,967.64</td>\n",
       "                        <td id=\"T_40af69ae_ba69_11eb_9e48_1e00f2146720row1_col3\" class=\"data row1 col3\" >$4.07</td>\n",
       "            </tr>\n",
       "            <tr>\n",
       "                        <th id=\"T_40af69ae_ba69_11eb_9e48_1e00f2146720level0_row2\" class=\"row_heading level0 row2\" >Other / Non-Disclosed</th>\n",
       "                        <td id=\"T_40af69ae_ba69_11eb_9e48_1e00f2146720row2_col0\" class=\"data row2 col0\" >15</td>\n",
       "                        <td id=\"T_40af69ae_ba69_11eb_9e48_1e00f2146720row2_col1\" class=\"data row2 col1\" >$3.35</td>\n",
       "                        <td id=\"T_40af69ae_ba69_11eb_9e48_1e00f2146720row2_col2\" class=\"data row2 col2\" >$50.19</td>\n",
       "                        <td id=\"T_40af69ae_ba69_11eb_9e48_1e00f2146720row2_col3\" class=\"data row2 col3\" >$4.56</td>\n",
       "            </tr>\n",
       "    </tbody></table>"
      ],
      "text/plain": [
       "<pandas.io.formats.style.Styler at 0x7fbf8006da90>"
      ]
     },
     "execution_count": 5,
     "metadata": {},
     "output_type": "execute_result"
    }
   ],
   "source": [
    "# Calculate Purchase Count by gender\n",
    "purchase_count = genders_group[\"Gender\"].count()\n",
    "\n",
    "# Calculate Average Purchase Price by gender\n",
    "avg_purchase_price = genders_group[\"Price\"].mean()\n",
    "\n",
    "# Calculate Purchase Total by gender\n",
    "purchase_total = genders_group[\"Price\"].sum()\n",
    "\n",
    "# Calculate Average Purchase Total per person by gender\n",
    "avg_purchase_total = purchase_total / gender_counts\n",
    "\n",
    "# Place all the data into summary data frame\n",
    "purchasing_analysis_gender = pd.DataFrame({\n",
    "                                            \"Purchase Count\": purchase_count,\n",
    "                                            \"Average Purchase Price\": avg_purchase_price,\n",
    "                                            \"Total Purchase Value\": purchase_total,\n",
    "                                            \"Average Total Purchase\": avg_purchase_total\n",
    "                            })\n",
    "\n",
    "# Format Data and display summary analysis\n",
    "purchasing_analysis_gender.style.format({\n",
    "                                        \"Average Purchase Price\":\"${:,.2f}\",\n",
    "                                        \"Total Purchase Value\":\"${:,.2f}\",\n",
    "                                        \"Average Total Purchase\":\"${:,.2f}\"\n",
    "})"
   ]
  },
  {
   "cell_type": "markdown",
   "metadata": {},
   "source": [
    "# Age Demographics"
   ]
  },
  {
   "cell_type": "code",
   "execution_count": 6,
   "metadata": {},
   "outputs": [
    {
     "data": {
      "text/html": [
       "<style  type=\"text/css\" >\n",
       "</style><table id=\"T_43e0c794_ba69_11eb_9e48_1e00f2146720\" ><thead>    <tr>        <th class=\"blank level0\" ></th>        <th class=\"col_heading level0 col0\" >Percentage of Players</th>        <th class=\"col_heading level0 col1\" >Total Count</th>    </tr>    <tr>        <th class=\"index_name level0\" >Age Groups</th>        <th class=\"blank\" ></th>        <th class=\"blank\" ></th>    </tr></thead><tbody>\n",
       "                <tr>\n",
       "                        <th id=\"T_43e0c794_ba69_11eb_9e48_1e00f2146720level0_row0\" class=\"row_heading level0 row0\" ><10</th>\n",
       "                        <td id=\"T_43e0c794_ba69_11eb_9e48_1e00f2146720row0_col0\" class=\"data row0 col0\" >2.95</td>\n",
       "                        <td id=\"T_43e0c794_ba69_11eb_9e48_1e00f2146720row0_col1\" class=\"data row0 col1\" >17</td>\n",
       "            </tr>\n",
       "            <tr>\n",
       "                        <th id=\"T_43e0c794_ba69_11eb_9e48_1e00f2146720level0_row1\" class=\"row_heading level0 row1\" >10-14</th>\n",
       "                        <td id=\"T_43e0c794_ba69_11eb_9e48_1e00f2146720row1_col0\" class=\"data row1 col0\" >3.82</td>\n",
       "                        <td id=\"T_43e0c794_ba69_11eb_9e48_1e00f2146720row1_col1\" class=\"data row1 col1\" >22</td>\n",
       "            </tr>\n",
       "            <tr>\n",
       "                        <th id=\"T_43e0c794_ba69_11eb_9e48_1e00f2146720level0_row2\" class=\"row_heading level0 row2\" >15-19</th>\n",
       "                        <td id=\"T_43e0c794_ba69_11eb_9e48_1e00f2146720row2_col0\" class=\"data row2 col0\" >18.58</td>\n",
       "                        <td id=\"T_43e0c794_ba69_11eb_9e48_1e00f2146720row2_col1\" class=\"data row2 col1\" >107</td>\n",
       "            </tr>\n",
       "            <tr>\n",
       "                        <th id=\"T_43e0c794_ba69_11eb_9e48_1e00f2146720level0_row3\" class=\"row_heading level0 row3\" >20-24</th>\n",
       "                        <td id=\"T_43e0c794_ba69_11eb_9e48_1e00f2146720row3_col0\" class=\"data row3 col0\" >44.79</td>\n",
       "                        <td id=\"T_43e0c794_ba69_11eb_9e48_1e00f2146720row3_col1\" class=\"data row3 col1\" >258</td>\n",
       "            </tr>\n",
       "            <tr>\n",
       "                        <th id=\"T_43e0c794_ba69_11eb_9e48_1e00f2146720level0_row4\" class=\"row_heading level0 row4\" >25-29</th>\n",
       "                        <td id=\"T_43e0c794_ba69_11eb_9e48_1e00f2146720row4_col0\" class=\"data row4 col0\" >13.37</td>\n",
       "                        <td id=\"T_43e0c794_ba69_11eb_9e48_1e00f2146720row4_col1\" class=\"data row4 col1\" >77</td>\n",
       "            </tr>\n",
       "            <tr>\n",
       "                        <th id=\"T_43e0c794_ba69_11eb_9e48_1e00f2146720level0_row5\" class=\"row_heading level0 row5\" >30-34</th>\n",
       "                        <td id=\"T_43e0c794_ba69_11eb_9e48_1e00f2146720row5_col0\" class=\"data row5 col0\" >9.03</td>\n",
       "                        <td id=\"T_43e0c794_ba69_11eb_9e48_1e00f2146720row5_col1\" class=\"data row5 col1\" >52</td>\n",
       "            </tr>\n",
       "            <tr>\n",
       "                        <th id=\"T_43e0c794_ba69_11eb_9e48_1e00f2146720level0_row6\" class=\"row_heading level0 row6\" >35-39</th>\n",
       "                        <td id=\"T_43e0c794_ba69_11eb_9e48_1e00f2146720row6_col0\" class=\"data row6 col0\" >5.38</td>\n",
       "                        <td id=\"T_43e0c794_ba69_11eb_9e48_1e00f2146720row6_col1\" class=\"data row6 col1\" >31</td>\n",
       "            </tr>\n",
       "            <tr>\n",
       "                        <th id=\"T_43e0c794_ba69_11eb_9e48_1e00f2146720level0_row7\" class=\"row_heading level0 row7\" >40+</th>\n",
       "                        <td id=\"T_43e0c794_ba69_11eb_9e48_1e00f2146720row7_col0\" class=\"data row7 col0\" >2.08</td>\n",
       "                        <td id=\"T_43e0c794_ba69_11eb_9e48_1e00f2146720row7_col1\" class=\"data row7 col1\" >12</td>\n",
       "            </tr>\n",
       "    </tbody></table>"
      ],
      "text/plain": [
       "<pandas.io.formats.style.Styler at 0x7fbf89c70fd0>"
      ]
     },
     "execution_count": 6,
     "metadata": {},
     "output_type": "execute_result"
    }
   ],
   "source": [
    "# Establish bins for ages and group labels\n",
    "age_bins = [0, 9, 14, 19, 24, 29, 34, 39, 100]\n",
    "group_labels = [\"<10\", \"10-14\", \"15-19\", \"20-24\", \"25-29\", \"30-34\", \"35-39\", \"40+\"]\n",
    "\n",
    "# Categorize the existing players using the age bins. Hint: use pd.cut()\n",
    "purchase_data[\"Age Groups\"] = pd.cut(purchase_data[\"Age\"], age_bins, labels = group_labels)\n",
    "\n",
    "# Group data by Age\n",
    "group_age = purchase_data.groupby(\"Age Groups\")\n",
    "\n",
    "# Calulate the total number by age group\n",
    "total_count_by_agegroup = group_age[\"SN\"].nunique()\n",
    "\n",
    "# Calculate percentage by age group\n",
    "percentage_by_agegroup = total_count_by_agegroup / total_players * 100\n",
    "\n",
    "# Create a summary data frame to hold the results\n",
    "age_demographics = pd.DataFrame({\n",
    "                                \"Percentage of Players\": percentage_by_agegroup,\n",
    "                                \"Total Count\": total_count_by_agegroup\n",
    "})\n",
    "# Optional: round the percentage column to two decimal points\n",
    "# Display Age Demographics Table\n",
    "age_demographics.style.format({\"Percentage of Players\":\"{:,.2f}\"})\n"
   ]
  },
  {
   "cell_type": "markdown",
   "metadata": {},
   "source": [
    "# Purchasing Analysis (Age)"
   ]
  },
  {
   "cell_type": "code",
   "execution_count": 8,
   "metadata": {},
   "outputs": [
    {
     "data": {
      "text/html": [
       "<style  type=\"text/css\" >\n",
       "</style><table id=\"T_8cb10e98_ba69_11eb_9e48_1e00f2146720\" ><thead>    <tr>        <th class=\"blank level0\" ></th>        <th class=\"col_heading level0 col0\" >Purchase Count</th>        <th class=\"col_heading level0 col1\" >Average Purchase Price</th>        <th class=\"col_heading level0 col2\" >Total Purchase Value</th>        <th class=\"col_heading level0 col3\" >Average Purchase Total per Person</th>    </tr>    <tr>        <th class=\"index_name level0\" >Age Groups</th>        <th class=\"blank\" ></th>        <th class=\"blank\" ></th>        <th class=\"blank\" ></th>        <th class=\"blank\" ></th>    </tr></thead><tbody>\n",
       "                <tr>\n",
       "                        <th id=\"T_8cb10e98_ba69_11eb_9e48_1e00f2146720level0_row0\" class=\"row_heading level0 row0\" ><10</th>\n",
       "                        <td id=\"T_8cb10e98_ba69_11eb_9e48_1e00f2146720row0_col0\" class=\"data row0 col0\" >23</td>\n",
       "                        <td id=\"T_8cb10e98_ba69_11eb_9e48_1e00f2146720row0_col1\" class=\"data row0 col1\" >$3.35</td>\n",
       "                        <td id=\"T_8cb10e98_ba69_11eb_9e48_1e00f2146720row0_col2\" class=\"data row0 col2\" >$77.13</td>\n",
       "                        <td id=\"T_8cb10e98_ba69_11eb_9e48_1e00f2146720row0_col3\" class=\"data row0 col3\" >$4.54</td>\n",
       "            </tr>\n",
       "            <tr>\n",
       "                        <th id=\"T_8cb10e98_ba69_11eb_9e48_1e00f2146720level0_row1\" class=\"row_heading level0 row1\" >10-14</th>\n",
       "                        <td id=\"T_8cb10e98_ba69_11eb_9e48_1e00f2146720row1_col0\" class=\"data row1 col0\" >28</td>\n",
       "                        <td id=\"T_8cb10e98_ba69_11eb_9e48_1e00f2146720row1_col1\" class=\"data row1 col1\" >$2.96</td>\n",
       "                        <td id=\"T_8cb10e98_ba69_11eb_9e48_1e00f2146720row1_col2\" class=\"data row1 col2\" >$82.78</td>\n",
       "                        <td id=\"T_8cb10e98_ba69_11eb_9e48_1e00f2146720row1_col3\" class=\"data row1 col3\" >$3.76</td>\n",
       "            </tr>\n",
       "            <tr>\n",
       "                        <th id=\"T_8cb10e98_ba69_11eb_9e48_1e00f2146720level0_row2\" class=\"row_heading level0 row2\" >15-19</th>\n",
       "                        <td id=\"T_8cb10e98_ba69_11eb_9e48_1e00f2146720row2_col0\" class=\"data row2 col0\" >136</td>\n",
       "                        <td id=\"T_8cb10e98_ba69_11eb_9e48_1e00f2146720row2_col1\" class=\"data row2 col1\" >$3.04</td>\n",
       "                        <td id=\"T_8cb10e98_ba69_11eb_9e48_1e00f2146720row2_col2\" class=\"data row2 col2\" >$412.89</td>\n",
       "                        <td id=\"T_8cb10e98_ba69_11eb_9e48_1e00f2146720row2_col3\" class=\"data row2 col3\" >$3.86</td>\n",
       "            </tr>\n",
       "            <tr>\n",
       "                        <th id=\"T_8cb10e98_ba69_11eb_9e48_1e00f2146720level0_row3\" class=\"row_heading level0 row3\" >20-24</th>\n",
       "                        <td id=\"T_8cb10e98_ba69_11eb_9e48_1e00f2146720row3_col0\" class=\"data row3 col0\" >365</td>\n",
       "                        <td id=\"T_8cb10e98_ba69_11eb_9e48_1e00f2146720row3_col1\" class=\"data row3 col1\" >$3.05</td>\n",
       "                        <td id=\"T_8cb10e98_ba69_11eb_9e48_1e00f2146720row3_col2\" class=\"data row3 col2\" >$1,114.06</td>\n",
       "                        <td id=\"T_8cb10e98_ba69_11eb_9e48_1e00f2146720row3_col3\" class=\"data row3 col3\" >$4.32</td>\n",
       "            </tr>\n",
       "            <tr>\n",
       "                        <th id=\"T_8cb10e98_ba69_11eb_9e48_1e00f2146720level0_row4\" class=\"row_heading level0 row4\" >25-29</th>\n",
       "                        <td id=\"T_8cb10e98_ba69_11eb_9e48_1e00f2146720row4_col0\" class=\"data row4 col0\" >101</td>\n",
       "                        <td id=\"T_8cb10e98_ba69_11eb_9e48_1e00f2146720row4_col1\" class=\"data row4 col1\" >$2.90</td>\n",
       "                        <td id=\"T_8cb10e98_ba69_11eb_9e48_1e00f2146720row4_col2\" class=\"data row4 col2\" >$293.00</td>\n",
       "                        <td id=\"T_8cb10e98_ba69_11eb_9e48_1e00f2146720row4_col3\" class=\"data row4 col3\" >$3.81</td>\n",
       "            </tr>\n",
       "            <tr>\n",
       "                        <th id=\"T_8cb10e98_ba69_11eb_9e48_1e00f2146720level0_row5\" class=\"row_heading level0 row5\" >30-34</th>\n",
       "                        <td id=\"T_8cb10e98_ba69_11eb_9e48_1e00f2146720row5_col0\" class=\"data row5 col0\" >73</td>\n",
       "                        <td id=\"T_8cb10e98_ba69_11eb_9e48_1e00f2146720row5_col1\" class=\"data row5 col1\" >$2.93</td>\n",
       "                        <td id=\"T_8cb10e98_ba69_11eb_9e48_1e00f2146720row5_col2\" class=\"data row5 col2\" >$214.00</td>\n",
       "                        <td id=\"T_8cb10e98_ba69_11eb_9e48_1e00f2146720row5_col3\" class=\"data row5 col3\" >$4.12</td>\n",
       "            </tr>\n",
       "            <tr>\n",
       "                        <th id=\"T_8cb10e98_ba69_11eb_9e48_1e00f2146720level0_row6\" class=\"row_heading level0 row6\" >35-39</th>\n",
       "                        <td id=\"T_8cb10e98_ba69_11eb_9e48_1e00f2146720row6_col0\" class=\"data row6 col0\" >41</td>\n",
       "                        <td id=\"T_8cb10e98_ba69_11eb_9e48_1e00f2146720row6_col1\" class=\"data row6 col1\" >$3.60</td>\n",
       "                        <td id=\"T_8cb10e98_ba69_11eb_9e48_1e00f2146720row6_col2\" class=\"data row6 col2\" >$147.67</td>\n",
       "                        <td id=\"T_8cb10e98_ba69_11eb_9e48_1e00f2146720row6_col3\" class=\"data row6 col3\" >$4.76</td>\n",
       "            </tr>\n",
       "            <tr>\n",
       "                        <th id=\"T_8cb10e98_ba69_11eb_9e48_1e00f2146720level0_row7\" class=\"row_heading level0 row7\" >40+</th>\n",
       "                        <td id=\"T_8cb10e98_ba69_11eb_9e48_1e00f2146720row7_col0\" class=\"data row7 col0\" >13</td>\n",
       "                        <td id=\"T_8cb10e98_ba69_11eb_9e48_1e00f2146720row7_col1\" class=\"data row7 col1\" >$2.94</td>\n",
       "                        <td id=\"T_8cb10e98_ba69_11eb_9e48_1e00f2146720row7_col2\" class=\"data row7 col2\" >$38.24</td>\n",
       "                        <td id=\"T_8cb10e98_ba69_11eb_9e48_1e00f2146720row7_col3\" class=\"data row7 col3\" >$3.19</td>\n",
       "            </tr>\n",
       "    </tbody></table>"
      ],
      "text/plain": [
       "<pandas.io.formats.style.Styler at 0x7fbf8a711a00>"
      ]
     },
     "execution_count": 8,
     "metadata": {},
     "output_type": "execute_result"
    }
   ],
   "source": [
    "# Calculate Purchase Count by Age\n",
    "purchase_count_age = group_age[\"Gender\"].count()\n",
    "\n",
    "# Calculate Avg. Purchase Price Total by Age\n",
    "avg_purchase_price_age = group_age[\"Price\"].mean()\n",
    "\n",
    "# Calculate Total Purchase Value by Age\n",
    "total_purchase_value_age = group_age[\"Price\"].sum()\n",
    "\n",
    "# Calculate Avg. Purchase Total per Person by Age\n",
    "avg_purchase_total_age = total_purchase_value_age / total_count_by_agegroup\n",
    "\n",
    "# Create a summary data frame to hold the results\n",
    "purchasing_analysis_age = pd.DataFrame({\n",
    "                            \"Purchase Count\": purchase_count_age,\n",
    "                            \"Average Purchase Price\": avg_purchase_price_age,\n",
    "                            \"Total Purchase Value\": total_purchase_value_age,\n",
    "                            \"Average Purchase Total per Person\": avg_purchase_total_age\n",
    "})\n",
    "\n",
    "# Optional: give the displayed data cleaner formatting and Display results\n",
    "purchasing_analysis_age.style.format({\"Average Purchase Price\":\"${:,.2f}\",\n",
    "                                      \"Total Purchase Value\": \"${:,.2f}\",\n",
    "                                      \"Average Purchase Total per Person\": \"${:,.2f}\"\n",
    "                                     })\n"
   ]
  },
  {
   "cell_type": "markdown",
   "metadata": {},
   "source": [
    "# Top Spenders"
   ]
  },
  {
   "cell_type": "code",
   "execution_count": 9,
   "metadata": {},
   "outputs": [
    {
     "data": {
      "text/html": [
       "<style  type=\"text/css\" >\n",
       "</style><table id=\"T_95cb1b9a_ba69_11eb_9e48_1e00f2146720\" ><thead>    <tr>        <th class=\"blank level0\" ></th>        <th class=\"col_heading level0 col0\" >Purchase Count</th>        <th class=\"col_heading level0 col1\" >Average Purchase Price</th>        <th class=\"col_heading level0 col2\" >Total Purchase Value</th>    </tr>    <tr>        <th class=\"index_name level0\" >SN</th>        <th class=\"blank\" ></th>        <th class=\"blank\" ></th>        <th class=\"blank\" ></th>    </tr></thead><tbody>\n",
       "                <tr>\n",
       "                        <th id=\"T_95cb1b9a_ba69_11eb_9e48_1e00f2146720level0_row0\" class=\"row_heading level0 row0\" >Lisosia93</th>\n",
       "                        <td id=\"T_95cb1b9a_ba69_11eb_9e48_1e00f2146720row0_col0\" class=\"data row0 col0\" >5</td>\n",
       "                        <td id=\"T_95cb1b9a_ba69_11eb_9e48_1e00f2146720row0_col1\" class=\"data row0 col1\" >$3.79</td>\n",
       "                        <td id=\"T_95cb1b9a_ba69_11eb_9e48_1e00f2146720row0_col2\" class=\"data row0 col2\" >$18.96</td>\n",
       "            </tr>\n",
       "            <tr>\n",
       "                        <th id=\"T_95cb1b9a_ba69_11eb_9e48_1e00f2146720level0_row1\" class=\"row_heading level0 row1\" >Idastidru52</th>\n",
       "                        <td id=\"T_95cb1b9a_ba69_11eb_9e48_1e00f2146720row1_col0\" class=\"data row1 col0\" >4</td>\n",
       "                        <td id=\"T_95cb1b9a_ba69_11eb_9e48_1e00f2146720row1_col1\" class=\"data row1 col1\" >$3.86</td>\n",
       "                        <td id=\"T_95cb1b9a_ba69_11eb_9e48_1e00f2146720row1_col2\" class=\"data row1 col2\" >$15.45</td>\n",
       "            </tr>\n",
       "            <tr>\n",
       "                        <th id=\"T_95cb1b9a_ba69_11eb_9e48_1e00f2146720level0_row2\" class=\"row_heading level0 row2\" >Chamjask73</th>\n",
       "                        <td id=\"T_95cb1b9a_ba69_11eb_9e48_1e00f2146720row2_col0\" class=\"data row2 col0\" >3</td>\n",
       "                        <td id=\"T_95cb1b9a_ba69_11eb_9e48_1e00f2146720row2_col1\" class=\"data row2 col1\" >$4.61</td>\n",
       "                        <td id=\"T_95cb1b9a_ba69_11eb_9e48_1e00f2146720row2_col2\" class=\"data row2 col2\" >$13.83</td>\n",
       "            </tr>\n",
       "            <tr>\n",
       "                        <th id=\"T_95cb1b9a_ba69_11eb_9e48_1e00f2146720level0_row3\" class=\"row_heading level0 row3\" >Iral74</th>\n",
       "                        <td id=\"T_95cb1b9a_ba69_11eb_9e48_1e00f2146720row3_col0\" class=\"data row3 col0\" >4</td>\n",
       "                        <td id=\"T_95cb1b9a_ba69_11eb_9e48_1e00f2146720row3_col1\" class=\"data row3 col1\" >$3.40</td>\n",
       "                        <td id=\"T_95cb1b9a_ba69_11eb_9e48_1e00f2146720row3_col2\" class=\"data row3 col2\" >$13.62</td>\n",
       "            </tr>\n",
       "            <tr>\n",
       "                        <th id=\"T_95cb1b9a_ba69_11eb_9e48_1e00f2146720level0_row4\" class=\"row_heading level0 row4\" >Iskadarya95</th>\n",
       "                        <td id=\"T_95cb1b9a_ba69_11eb_9e48_1e00f2146720row4_col0\" class=\"data row4 col0\" >3</td>\n",
       "                        <td id=\"T_95cb1b9a_ba69_11eb_9e48_1e00f2146720row4_col1\" class=\"data row4 col1\" >$4.37</td>\n",
       "                        <td id=\"T_95cb1b9a_ba69_11eb_9e48_1e00f2146720row4_col2\" class=\"data row4 col2\" >$13.10</td>\n",
       "            </tr>\n",
       "    </tbody></table>"
      ],
      "text/plain": [
       "<pandas.io.formats.style.Styler at 0x7fbf8a66edc0>"
      ]
     },
     "execution_count": 9,
     "metadata": {},
     "output_type": "execute_result"
    }
   ],
   "source": [
    "# Group dataframe by SN\n",
    "grouped_sn = purchase_data.groupby(\"SN\")\n",
    "\n",
    "# Calculate Total Purchase count per SN\n",
    "purchase_count_sn = grouped_sn[\"Purchase ID\"].count()\n",
    "\n",
    "# Calculate Avg. Purchase price by SN\n",
    "avg_purchase_sn = grouped_sn[\"Price\"].mean()\n",
    "\n",
    "# Calculate Total Purchase value by SN\n",
    "purchase_value_sn = grouped_sn[\"Price\"].sum()\n",
    "\n",
    "# Place the values in a summary DataFrame\n",
    "top_spenders = pd.DataFrame({\n",
    "                            \"Purchase Count\": purchase_count_sn,\n",
    "                            \"Average Purchase Price\": avg_purchase_sn,\n",
    "                            \"Total Purchase Value\": purchase_value_sn\n",
    "})\n",
    "\n",
    "#Sort the total purchase value column in descending order\n",
    "top_spenders_desc = top_spenders.sort_values([\"Total Purchase Value\"], ascending = False).head()\n",
    "\n",
    "#Optional: give the displayed data cleaner formatting and Display a preview of the summary data frame\n",
    "top_spenders_desc.style.format({\"Average Purchase Price\":\"${:,.2f}\",\n",
    "                                \"Total Purchase Value\":\"${:,.2f}\"})\n"
   ]
  },
  {
   "cell_type": "markdown",
   "metadata": {},
   "source": [
    "# Most Popular Items"
   ]
  },
  {
   "cell_type": "code",
   "execution_count": 10,
   "metadata": {},
   "outputs": [
    {
     "data": {
      "text/html": [
       "<style  type=\"text/css\" >\n",
       "</style><table id=\"T_99fb17a6_ba69_11eb_9e48_1e00f2146720\" ><thead>    <tr>        <th class=\"blank\" ></th>        <th class=\"blank level0\" ></th>        <th class=\"col_heading level0 col0\" >Purchase Count</th>        <th class=\"col_heading level0 col1\" >Item Price</th>        <th class=\"col_heading level0 col2\" >Total Purchase Value</th>    </tr>    <tr>        <th class=\"index_name level0\" >Item ID</th>        <th class=\"index_name level1\" >Item Name</th>        <th class=\"blank\" ></th>        <th class=\"blank\" ></th>        <th class=\"blank\" ></th>    </tr></thead><tbody>\n",
       "                <tr>\n",
       "                        <th id=\"T_99fb17a6_ba69_11eb_9e48_1e00f2146720level0_row0\" class=\"row_heading level0 row0\" >92</th>\n",
       "                        <th id=\"T_99fb17a6_ba69_11eb_9e48_1e00f2146720level1_row0\" class=\"row_heading level1 row0\" >Final Critic</th>\n",
       "                        <td id=\"T_99fb17a6_ba69_11eb_9e48_1e00f2146720row0_col0\" class=\"data row0 col0\" >13</td>\n",
       "                        <td id=\"T_99fb17a6_ba69_11eb_9e48_1e00f2146720row0_col1\" class=\"data row0 col1\" >$4.61</td>\n",
       "                        <td id=\"T_99fb17a6_ba69_11eb_9e48_1e00f2146720row0_col2\" class=\"data row0 col2\" >$59.99</td>\n",
       "            </tr>\n",
       "            <tr>\n",
       "                        <th id=\"T_99fb17a6_ba69_11eb_9e48_1e00f2146720level0_row1\" class=\"row_heading level0 row1\" >178</th>\n",
       "                        <th id=\"T_99fb17a6_ba69_11eb_9e48_1e00f2146720level1_row1\" class=\"row_heading level1 row1\" >Oathbreaker, Last Hope of the Breaking Storm</th>\n",
       "                        <td id=\"T_99fb17a6_ba69_11eb_9e48_1e00f2146720row1_col0\" class=\"data row1 col0\" >12</td>\n",
       "                        <td id=\"T_99fb17a6_ba69_11eb_9e48_1e00f2146720row1_col1\" class=\"data row1 col1\" >$4.23</td>\n",
       "                        <td id=\"T_99fb17a6_ba69_11eb_9e48_1e00f2146720row1_col2\" class=\"data row1 col2\" >$50.76</td>\n",
       "            </tr>\n",
       "            <tr>\n",
       "                        <th id=\"T_99fb17a6_ba69_11eb_9e48_1e00f2146720level0_row2\" class=\"row_heading level0 row2\" >145</th>\n",
       "                        <th id=\"T_99fb17a6_ba69_11eb_9e48_1e00f2146720level1_row2\" class=\"row_heading level1 row2\" >Fiery Glass Crusader</th>\n",
       "                        <td id=\"T_99fb17a6_ba69_11eb_9e48_1e00f2146720row2_col0\" class=\"data row2 col0\" >9</td>\n",
       "                        <td id=\"T_99fb17a6_ba69_11eb_9e48_1e00f2146720row2_col1\" class=\"data row2 col1\" >$4.58</td>\n",
       "                        <td id=\"T_99fb17a6_ba69_11eb_9e48_1e00f2146720row2_col2\" class=\"data row2 col2\" >$41.22</td>\n",
       "            </tr>\n",
       "            <tr>\n",
       "                        <th id=\"T_99fb17a6_ba69_11eb_9e48_1e00f2146720level0_row3\" class=\"row_heading level0 row3\" >132</th>\n",
       "                        <th id=\"T_99fb17a6_ba69_11eb_9e48_1e00f2146720level1_row3\" class=\"row_heading level1 row3\" >Persuasion</th>\n",
       "                        <td id=\"T_99fb17a6_ba69_11eb_9e48_1e00f2146720row3_col0\" class=\"data row3 col0\" >9</td>\n",
       "                        <td id=\"T_99fb17a6_ba69_11eb_9e48_1e00f2146720row3_col1\" class=\"data row3 col1\" >$3.22</td>\n",
       "                        <td id=\"T_99fb17a6_ba69_11eb_9e48_1e00f2146720row3_col2\" class=\"data row3 col2\" >$28.99</td>\n",
       "            </tr>\n",
       "            <tr>\n",
       "                        <th id=\"T_99fb17a6_ba69_11eb_9e48_1e00f2146720level0_row4\" class=\"row_heading level0 row4\" >108</th>\n",
       "                        <th id=\"T_99fb17a6_ba69_11eb_9e48_1e00f2146720level1_row4\" class=\"row_heading level1 row4\" >Extraction, Quickblade Of Trembling Hands</th>\n",
       "                        <td id=\"T_99fb17a6_ba69_11eb_9e48_1e00f2146720row4_col0\" class=\"data row4 col0\" >9</td>\n",
       "                        <td id=\"T_99fb17a6_ba69_11eb_9e48_1e00f2146720row4_col1\" class=\"data row4 col1\" >$3.53</td>\n",
       "                        <td id=\"T_99fb17a6_ba69_11eb_9e48_1e00f2146720row4_col2\" class=\"data row4 col2\" >$31.77</td>\n",
       "            </tr>\n",
       "    </tbody></table>"
      ],
      "text/plain": [
       "<pandas.io.formats.style.Styler at 0x7fbf785d1dc0>"
      ]
     },
     "execution_count": 10,
     "metadata": {},
     "output_type": "execute_result"
    }
   ],
   "source": [
    "# Retrieve the Item ID, Item Name, and Item Price columns\n",
    "items = purchase_data[[\"Item ID\", \"Item Name\", \"Price\"]]\n",
    "\n",
    "# Group by Item ID and Item Name. \n",
    "group_items = items.groupby([\"Item ID\",\"Item Name\"])\n",
    "\n",
    "# Calculate Purchase Count\n",
    "purchase_count_item = group_items[\"Item ID\"].count()\n",
    "\n",
    "# Calculate Average Item Price\n",
    "avg_item_price = group_items[\"Price\"].mean()\n",
    "\n",
    "# Calculate Total Purchase Value\n",
    "total_purchase_value_item = group_items[\"Price\"].sum()\n",
    "\n",
    "# Calculate Individual Item price\n",
    "item_price = total_purchase_value_item / purchase_count_item\n",
    "\n",
    "# Create a summary data frame to hold the results\n",
    "most_popular_items = pd.DataFrame({\n",
    "                                    \"Purchase Count\": purchase_count_item,\n",
    "                                    \"Item Price\": item_price,\n",
    "                                    \"Total Purchase Value\": total_purchase_value_item\n",
    "})\n",
    "\n",
    "# Sort the purchase count column in descending order\n",
    "most_popular_items_desc = most_popular_items.sort_values([\"Purchase Count\"], ascending = False).head()\n",
    "\n",
    "# Optional: give the displayed data cleaner formatting and # Display a preview of the summary data frame\n",
    "most_popular_items_desc.style.format({\"Item Price\": \"${:,.2f}\", \"Total Purchase Value\": \"${:,.2f}\"})"
   ]
  }
 ],
 "metadata": {
  "kernelspec": {
   "display_name": "Python 3",
   "language": "python",
   "name": "python3"
  },
  "language_info": {
   "codemirror_mode": {
    "name": "ipython",
    "version": 3
   },
   "file_extension": ".py",
   "mimetype": "text/x-python",
   "name": "python",
   "nbconvert_exporter": "python",
   "pygments_lexer": "ipython3",
   "version": "3.8.5"
  }
 },
 "nbformat": 4,
 "nbformat_minor": 4
}
